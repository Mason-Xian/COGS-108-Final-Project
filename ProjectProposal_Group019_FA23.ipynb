{
 "cells": [
  {
   "cell_type": "markdown",
   "metadata": {},
   "source": [
    "# COGS 108 - Project Proposal"
   ]
  },
  {
   "cell_type": "markdown",
   "metadata": {},
   "source": [
    "# Names\n",
    "\n",
    "- Bryce Beeson\n",
    "- Minghao Xian\n",
    "- Zeying Du\n",
    "- Bryant Quijada\n",
    "- Yasamin Mazaheri"
   ]
  },
  {
   "cell_type": "markdown",
   "metadata": {},
   "source": [
    "# Research Question"
   ]
  },
  {
   "cell_type": "markdown",
   "metadata": {},
   "source": [
    "What is the effectiveness of telemedicine in delivering mental health care and therapy, and how does it compare to in-person sessions?"
   ]
  },
  {
   "cell_type": "markdown",
   "metadata": {},
   "source": [
    "## Background and Prior Work"
   ]
  },
  {
   "cell_type": "markdown",
   "metadata": {},
   "source": [
    "\n",
    "The effectiveness of telemedicine in delivering mental health care and therapy compared to in-person sessions is a topic that greatly matters to a widening audience of people as more and more people get comfortable with the idea of therapy. With a growing number of people interested in mental health, combined with the growing rise in telehealth during the COVID-19 pandemic, several studies have examined this specific issue. \n",
    "\n",
    "\n",
    "One such study compared outcomes for individuals receiving in-person therapy and virtual therapy during the COVID-19 outbreak, finding similar improvements in eating disorder symptoms, weight gain, and satisfaction with services <a name=\"cite_ref-5\"></a>[<sup>5</sup>](#cite_note-5). Another study focused on the patient experience of telehealth services in a mental health setting during the pandemic, shedding some light on how patients perceive the tele health services in mental health care <a name=\"cite_ref-2\"></a>[<sup>2</sup>](#cite_note-2). Finally, another study compared telehealth and face to face psychotherapy for less common mental health conditions to assess differences in effectiveness between the two treatment methods <a name=\"cite_ref-1\"></a>[<sup>1</sup>](#cite_note-1).\n",
    "\n",
    "\n",
    "These studies suggest that it is possible for telemedicine to be as effective as in-person sessions for mental health care. However, further research will allow us to better define the connections and ramifications of the growing mental health industry in recent years. \n",
    "\n",
    "**Citations**\n",
    "\n",
    "1. <a name=\"cite_note-1\"></a> [^](#cite_ref-1) Greenwood, Hannah, et al. “Telehealth versus Face-to-Face Psychotherapy for Less Common Mental Health Conditions: Systematic Review and Meta-Analysis of Randomized Controlled Trials.” JMIR Mental Health, U.S. National Library of Medicine, 11 Mar. 2022, www.ncbi.nlm.nih.gov/pmc/articles/PMC8956990/.\n",
    "2. <a name=\"cite_note-2\"></a> [^](#cite_ref-2)Lee, Heeyoung, et al. “Patient Experience with Telehealth Service in a Mental Health Setting.” Archives of Psychiatric Nursing, U.S. National Library of Medicine, Apr. 2023, www.ncbi.nlm.nih.gov/pmc/articles/PMC10008765/.\n",
    "3. <a name=\"cite_note-3\"></a> [^](#cite_ref-3)Polinski, Jennifer M., et al. “Patients’ Satisfaction with and Preference for Telehealth Visits.” Journal of General Internal Medicine : JGIM, vol. 31, no. 3, 2016, pp. 269–75, https://doi.org/10.1007/s11606-015-3489-x.\n",
    "4. <a name=\"cite_note-4\"></a> [^](#cite_ref-4)Kaur, Karuna Nidhi, et al. “Patient Satisfaction for Telemedicine Health Services in the Era of COVID-19 Pandemic: A Systematic Review.” Frontiers in Public Health, vol. 10, 2022, pp. 1031867–1031867, https://doi.org/10.3389/fpubh.2022.1031867.\n",
    "5. <a name=\"cite_note-5\"></a> [^](#cite_ref-5)Steiger, Howard, et al. “In‐person Versus Virtual Therapy in Outpatient Eating‐disorder Treatment: A COVID‐19 Inspired Study.” International Journal of Eating Disorders, vol. 55, no. 1, 2022, pp. 145–50, https://doi.org/10.1002/eat.23655."
   ]
  },
  {
   "cell_type": "markdown",
   "metadata": {},
   "source": [
    "# Hypothesis\n"
   ]
  },
  {
   "cell_type": "markdown",
   "metadata": {},
   "source": [
    "\n",
    "- In 2022, patients who received in-person mental health care or therapy rated the effectiveness of the care they received differently as the patients who received care remotely.\n",
    "- Our null hypothesis: patients who have received in person or remote mental health care or therapy rated the effectiveness of the care they received equally.\n",
    "- We think this will be the outcome because receiving mental health care remotely and in person are two different experiences. We think the difference in experiences will lead to differences in effectiveness.\n"
   ]
  },
  {
   "cell_type": "markdown",
   "metadata": {},
   "source": [
    "# Data"
   ]
  },
  {
   "cell_type": "markdown",
   "metadata": {},
   "source": [
    "1. Our ideal dataset would be from a survey where patients themselves rate the effectiveness of their received care, with likert scale ratings taken from before their care and a certain amount of time after they’ve started their care. We want a reputable dataset with more than 1000 patients. We expect those data are structured data and organized in tables\n",
    "2. Potential datasets: The Center for Behavioral Health Statistics and Quality (CBHSQ), Mental Health Client-Level Data (MH-CLD) and National Mental Health Services Survey (N-MHSS) are all reliable sources of data related to clinical mental health services, facilities, and treatments in the United States. Since datasets from those data collections cover wide time periods and are based on large national (the United States) and states-level samples, we think they are sufficient enough for our project.\n",
    "\n",
    "https://www.samhsa.gov/data/data-we-collect/n-sumhss-national-substance-use-and-mental-health-services-survey\n"
   ]
  },
  {
   "cell_type": "markdown",
   "metadata": {},
   "source": [
    "# Ethics & Privacy"
   ]
  },
  {
   "cell_type": "markdown",
   "metadata": {},
   "source": [
    "- Some privacy issues that come up with the data that we proposed are the exposure of private conversations between the patient and the therapist. Privacy shouldn’t be a big concern, as the practicing therapists who would provide the data will have to adhere to HIPAA.\n",
    "- One source of bias would be the patients’ own preferences. When given the choice, some patients might prefer to receive their care one way or another. This will lead to them rating their preferred method care to be more effective. Some other potential biases in our dataset is the demographic/population being sampled, and we do not know the methods of how the data from the dataset was created/collected. Too often, WEIRD (Western, Educated, Industrial, Rich, Democracies) populations are taken. This can affect the efficacy of our data as it is heavily biased to a certain population. Additionally, we do not know if the people who created the data from the dataset had some sort of ulterior motive or inherent bias against the participants involved.\n",
    "- Some of the ways we will set out to detect these specific biases for commuting our analysis is by having participants experience both forms of delivering mental health care and therapy, check for a description of the characteristics of the participants involved in the data, and analyze the methodology used during the creation of the data.\n",
    "- Some issues related to our data that are potentially problematic in terms of equitable impact is that our data is not representative of the population of the United States as a whole\n",
    "- We will negate privacy concerns by using a dataset where the patients voluntarily submit their feedback. \n"
   ]
  },
  {
   "cell_type": "markdown",
   "metadata": {},
   "source": [
    "# Team Expectations "
   ]
  },
  {
   "cell_type": "markdown",
   "metadata": {},
   "source": [
    "\n",
    "* Team Expectation 1: Join group calls within an hour of the scheduled meeting time.\n",
    "* Team Expectation 2: Plan meetings ahead of time\n",
    "* Team Expectation 3: Each team member should contribute equally to the project\n",
    "* Team Expectation 4: Be respectful of people’s time and responsive by communicating effectively to the group as a whole\n",
    "* Team Expectation 5: Utilize each other’s strengths to work on the project more efficiently.\n"
   ]
  },
  {
   "cell_type": "markdown",
   "metadata": {},
   "source": [
    "# Project Timeline Proposal"
   ]
  },
  {
   "cell_type": "markdown",
   "metadata": {},
   "source": [
    "| Meeting Date  | Meeting Time| Completed Before Meeting  | Discuss at Meeting |\n",
    "|---|---|---|---|\n",
    "| 10/22  |  6 PM | Read & Think about COGS 108 expectations; brainstorm topics/questions  | Determine best form of communication; Discuss and decide on final project topic; discuss hypothesis; begin background research | \n",
    "| 11/1  |  6 PM |  Do background research on topic | Discuss ideal dataset(s) and ethics; draft project proposal | \n",
    "| 11/15  | 6 PM  | Edit, finalize, and submit proposal; Search for datasets  | Discuss Wrangling and possible analytical approaches; Assign group members to lead each specific part   |\n",
    "| 11/29  | 6 PM  | Import & Wrangle Data (Ant Man); EDA (Hulk) | Review/Edit wrangling/EDA; Discuss Analysis Plan   |\n",
    "| 12/6  | 6 PM  | Finalize wrangling/EDA; Begin Analysis (Iron Man; Thor) | Discuss/edit Analysis; Complete project check-in |\n",
    "| 12/13  | 6 PM  | Complete analysis; Draft results/conclusion/discussion (Wasp)| Discuss/edit full project |\n",
    "| 12/13  | Before 11:59 PM  | NA | Turn in Final Project & Group Project Surveys |"
   ]
  }
 ],
 "metadata": {
  "kernelspec": {
   "display_name": "python3",
   "language": "python",
   "name": "python3"
  }
 },
 "nbformat": 4,
 "nbformat_minor": 2
}
